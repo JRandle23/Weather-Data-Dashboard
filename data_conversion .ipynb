{
 "cells": [
  {
   "cell_type": "code",
   "execution_count": 1,
   "metadata": {},
   "outputs": [],
   "source": [
    "import pandas as pd"
   ]
  },
  {
   "cell_type": "code",
   "execution_count": 8,
   "metadata": {},
   "outputs": [
    {
     "data": {
      "text/html": [
       "<div>\n",
       "<style scoped>\n",
       "    .dataframe tbody tr th:only-of-type {\n",
       "        vertical-align: middle;\n",
       "    }\n",
       "\n",
       "    .dataframe tbody tr th {\n",
       "        vertical-align: top;\n",
       "    }\n",
       "\n",
       "    .dataframe thead th {\n",
       "        text-align: right;\n",
       "    }\n",
       "</style>\n",
       "<table border=\"1\" class=\"dataframe\">\n",
       "  <thead>\n",
       "    <tr style=\"text-align: right;\">\n",
       "      <th></th>\n",
       "      <th>City</th>\n",
       "      <th>Lat</th>\n",
       "      <th>Lng</th>\n",
       "      <th>Max Temp</th>\n",
       "      <th>Humidity</th>\n",
       "      <th>Cloudiness</th>\n",
       "      <th>Wind Speed</th>\n",
       "      <th>Country</th>\n",
       "      <th>Date</th>\n",
       "    </tr>\n",
       "  </thead>\n",
       "  <tbody>\n",
       "    <tr>\n",
       "      <th>0</th>\n",
       "      <td>Sørland</td>\n",
       "      <td>67.6670</td>\n",
       "      <td>12.6934</td>\n",
       "      <td>35.91</td>\n",
       "      <td>82</td>\n",
       "      <td>100</td>\n",
       "      <td>27.04</td>\n",
       "      <td>NO</td>\n",
       "      <td>1610218781</td>\n",
       "    </tr>\n",
       "    <tr>\n",
       "      <th>1</th>\n",
       "      <td>Vyshneve</td>\n",
       "      <td>50.3891</td>\n",
       "      <td>30.3705</td>\n",
       "      <td>33.01</td>\n",
       "      <td>93</td>\n",
       "      <td>90</td>\n",
       "      <td>11.18</td>\n",
       "      <td>UA</td>\n",
       "      <td>1610218782</td>\n",
       "    </tr>\n",
       "    <tr>\n",
       "      <th>2</th>\n",
       "      <td>Barrow</td>\n",
       "      <td>71.2906</td>\n",
       "      <td>-156.7887</td>\n",
       "      <td>-2.20</td>\n",
       "      <td>78</td>\n",
       "      <td>90</td>\n",
       "      <td>8.05</td>\n",
       "      <td>US</td>\n",
       "      <td>1610218541</td>\n",
       "    </tr>\n",
       "    <tr>\n",
       "      <th>3</th>\n",
       "      <td>Chernyshevskiy</td>\n",
       "      <td>63.0128</td>\n",
       "      <td>112.4714</td>\n",
       "      <td>-26.90</td>\n",
       "      <td>85</td>\n",
       "      <td>24</td>\n",
       "      <td>3.65</td>\n",
       "      <td>RU</td>\n",
       "      <td>1610218785</td>\n",
       "    </tr>\n",
       "    <tr>\n",
       "      <th>4</th>\n",
       "      <td>Puerto Ayora</td>\n",
       "      <td>-0.7393</td>\n",
       "      <td>-90.3518</td>\n",
       "      <td>84.20</td>\n",
       "      <td>58</td>\n",
       "      <td>0</td>\n",
       "      <td>17.27</td>\n",
       "      <td>EC</td>\n",
       "      <td>1610218786</td>\n",
       "    </tr>\n",
       "  </tbody>\n",
       "</table>\n",
       "</div>"
      ],
      "text/plain": [
       "             City      Lat       Lng  Max Temp  Humidity  Cloudiness  \\\n",
       "0         Sørland  67.6670   12.6934     35.91        82         100   \n",
       "1        Vyshneve  50.3891   30.3705     33.01        93          90   \n",
       "2          Barrow  71.2906 -156.7887     -2.20        78          90   \n",
       "3  Chernyshevskiy  63.0128  112.4714    -26.90        85          24   \n",
       "4    Puerto Ayora  -0.7393  -90.3518     84.20        58           0   \n",
       "\n",
       "   Wind Speed Country        Date  \n",
       "0       27.04      NO  1610218781  \n",
       "1       11.18      UA  1610218782  \n",
       "2        8.05      US  1610218541  \n",
       "3        3.65      RU  1610218785  \n",
       "4       17.27      EC  1610218786  "
      ]
     },
     "execution_count": 8,
     "metadata": {},
     "output_type": "execute_result"
    }
   ],
   "source": [
    "#read in city data \n",
    "city_data = pd.read_csv(\"Resources/cities.csv\")\n",
    "city_data.head()"
   ]
  },
  {
   "cell_type": "code",
   "execution_count": 9,
   "metadata": {},
   "outputs": [],
   "source": [
    "city_data.to_html(\"converted_data.html\")"
   ]
  },
  {
   "cell_type": "code",
   "execution_count": null,
   "metadata": {},
   "outputs": [],
   "source": []
  }
 ],
 "metadata": {
  "kernelspec": {
   "display_name": "Python 3",
   "language": "python",
   "name": "python3"
  },
  "language_info": {
   "codemirror_mode": {
    "name": "ipython",
    "version": 3
   },
   "file_extension": ".py",
   "mimetype": "text/x-python",
   "name": "python",
   "nbconvert_exporter": "python",
   "pygments_lexer": "ipython3",
   "version": "3.8.3"
  }
 },
 "nbformat": 4,
 "nbformat_minor": 4
}
